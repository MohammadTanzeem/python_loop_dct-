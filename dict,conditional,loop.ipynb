{
 "cells": [
  {
   "cell_type": "code",
   "execution_count": 14,
   "id": "87a3353f-0702-430f-8a6d-9a3515e9c89d",
   "metadata": {},
   "outputs": [],
   "source": [
    "d={'name':\"tanzeem\",'mail':\"mistar352\",'no':[1,11,3,3,3,4,5,5,5],'clas time':'nikhar','r':[1,2,3,4]}"
   ]
  },
  {
   "cell_type": "code",
   "execution_count": 15,
   "id": "6c96da29-94d9-4f03-9d0a-cca27dbb18a0",
   "metadata": {},
   "outputs": [
    {
     "data": {
      "text/plain": [
       "{'name': 'tanzeem',\n",
       " 'mail': 'mistar352',\n",
       " 'no': [1, 11, 3, 3, 3, 4, 5, 5, 5],\n",
       " 'clas time': 'nikhar',\n",
       " 'r': [1, 2, 3, 4]}"
      ]
     },
     "execution_count": 15,
     "metadata": {},
     "output_type": "execute_result"
    }
   ],
   "source": [
    "d"
   ]
  },
  {
   "cell_type": "code",
   "execution_count": 16,
   "id": "05e5b210-3643-4514-8a32-727f7b10922d",
   "metadata": {},
   "outputs": [
    {
     "data": {
      "text/plain": [
       "'nikhar'"
      ]
     },
     "execution_count": 16,
     "metadata": {},
     "output_type": "execute_result"
    }
   ],
   "source": [
    "d[ 'clas time']"
   ]
  },
  {
   "cell_type": "code",
   "execution_count": 20,
   "id": "890c154c-73bc-4db6-b656-fd511b3e1bae",
   "metadata": {},
   "outputs": [
    {
     "data": {
      "text/plain": [
       "4"
      ]
     },
     "execution_count": 20,
     "metadata": {},
     "output_type": "execute_result"
    }
   ],
   "source": [
    "d[\"r\"][3]"
   ]
  },
  {
   "cell_type": "code",
   "execution_count": 21,
   "id": "0bb63499-3d6f-447f-b4c0-9cc5e4bda66b",
   "metadata": {},
   "outputs": [
    {
     "data": {
      "text/plain": [
       "'tanzeem'"
      ]
     },
     "execution_count": 21,
     "metadata": {},
     "output_type": "execute_result"
    }
   ],
   "source": [
    "d['name'\n",
    " ]"
   ]
  },
  {
   "cell_type": "code",
   "execution_count": 25,
   "id": "0c922fde-7607-4440-8918-5ae3cb5b482e",
   "metadata": {},
   "outputs": [
    {
     "ename": "AttributeError",
     "evalue": "'dict' object has no attribute 'apend'",
     "output_type": "error",
     "traceback": [
      "\u001b[0;31m---------------------------------------------------------------------------\u001b[0m",
      "\u001b[0;31mAttributeError\u001b[0m                            Traceback (most recent call last)",
      "Cell \u001b[0;32mIn[25], line 1\u001b[0m\n\u001b[0;32m----> 1\u001b[0m \u001b[43md\u001b[49m\u001b[38;5;241;43m.\u001b[39;49m\u001b[43mapend\u001b[49m(\u001b[38;5;241m7\u001b[39m)\n",
      "\u001b[0;31mAttributeError\u001b[0m: 'dict' object has no attribute 'apend'"
     ]
    }
   ],
   "source": [
    "d.apend(7)"
   ]
  },
  {
   "cell_type": "code",
   "execution_count": 38,
   "id": "aa4c6c17-2c19-40f0-9ff4-28b779a35b09",
   "metadata": {},
   "outputs": [
    {
     "name": "stdin",
     "output_type": "stream",
     "text": [
      "enter your marks 65\n"
     ]
    },
    {
     "name": "stdout",
     "output_type": "stream",
     "text": [
      "you are in B1 clas\n"
     ]
    }
   ],
   "source": [
    "marks=int(input(\"enter your marks\"))\n",
    "if marks >= 80:\n",
    "    print('you are in A1 clas')\n",
    "elif marks>=60 and marks<80:   \n",
    "    print('you are in B1 clas')\n",
    "elif marks>=40 and marks<60: \n",
    "    print('yor are C1 CLAS')\n",
    "else :\n",
    "    print('you are in D1 clas')"
   ]
  },
  {
   "cell_type": "code",
   "execution_count": 42,
   "id": "596bb5e4-233f-49b6-aeee-a7d8c752baa7",
   "metadata": {},
   "outputs": [
    {
     "name": "stdin",
     "output_type": "stream",
     "text": [
      "enter your ammoun 1200\n"
     ]
    },
    {
     "name": "stdout",
     "output_type": "stream",
     "text": [
      "i will not purchas\n"
     ]
    }
   ],
   "source": [
    "price=int(input('enter your ammoun'))\n",
    "if price>=1000:\n",
    "    print('i will not purchas')\n",
    "else:\n",
    "    print('i will purchas')"
   ]
  },
  {
   "cell_type": "code",
   "execution_count": 56,
   "id": "9148253f-1953-44c8-9562-ec3292f79189",
   "metadata": {},
   "outputs": [
    {
     "name": "stdin",
     "output_type": "stream",
     "text": [
      "enter your ammoun 1200\n"
     ]
    },
    {
     "name": "stdout",
     "output_type": "stream",
     "text": [
      "i will not purchas\n",
      "its ok\n"
     ]
    }
   ],
   "source": [
    "price=int(input('enter your ammoun'))\n",
    "if price>=1000:\n",
    "    print('i will not purchas')\n",
    "    if price>=7000:\n",
    "            print('this is to much')\n",
    "    elif price<2000:\n",
    "            print('its ok')\n",
    "else:\n",
    "    print('i will purchas')"
   ]
  },
  {
   "cell_type": "code",
   "execution_count": 57,
   "id": "a15af711-e235-4f13-a940-540bdbf9c1b9",
   "metadata": {},
   "outputs": [],
   "source": [
    "l=[1,2,3,4,5,6,7,8,]"
   ]
  },
  {
   "cell_type": "code",
   "execution_count": 60,
   "id": "5a71eea0-9bef-462c-9fb4-c00222ebc85b",
   "metadata": {},
   "outputs": [
    {
     "name": "stdout",
     "output_type": "stream",
     "text": [
      "3\n",
      "4\n",
      "5\n",
      "6\n",
      "7\n",
      "8\n",
      "9\n",
      "10\n"
     ]
    }
   ],
   "source": [
    "l1=[]\n",
    "for i in l:\n",
    "    print(i+2)\n",
    "    l1.append(i+2)\n",
    "         "
   ]
  },
  {
   "cell_type": "code",
   "execution_count": 61,
   "id": "08da1928-8b7f-41c7-8e2f-8d4176aed378",
   "metadata": {},
   "outputs": [
    {
     "data": {
      "text/plain": [
       "[3, 4, 5, 6, 7, 8, 9, 10]"
      ]
     },
     "execution_count": 61,
     "metadata": {},
     "output_type": "execute_result"
    }
   ],
   "source": [
    "l1"
   ]
  },
  {
   "cell_type": "code",
   "execution_count": 62,
   "id": "5b756574-e627-4146-8f7c-45ecefb4bcb5",
   "metadata": {},
   "outputs": [],
   "source": [
    "a=['tan','moh','nikh']"
   ]
  },
  {
   "cell_type": "code",
   "execution_count": 66,
   "id": "de6fd801-bd33-45fb-b7f1-9c144cf885b9",
   "metadata": {},
   "outputs": [
    {
     "name": "stdout",
     "output_type": "stream",
     "text": [
      "tan\n",
      "moh\n",
      "nikh\n",
      "<built-in method upper of str object at 0x7f1810631a70>\n"
     ]
    },
    {
     "ename": "AttributeError",
     "evalue": "'builtin_function_or_method' object has no attribute 'upper'",
     "output_type": "error",
     "traceback": [
      "\u001b[0;31m---------------------------------------------------------------------------\u001b[0m",
      "\u001b[0;31mAttributeError\u001b[0m                            Traceback (most recent call last)",
      "Cell \u001b[0;32mIn[66], line 4\u001b[0m\n\u001b[1;32m      2\u001b[0m \u001b[38;5;28;01mfor\u001b[39;00m i \u001b[38;5;129;01min\u001b[39;00m a:\n\u001b[1;32m      3\u001b[0m     \u001b[38;5;28mprint\u001b[39m(i)\n\u001b[0;32m----> 4\u001b[0m     a1\u001b[38;5;241m.\u001b[39mappend(\u001b[43mi\u001b[49m\u001b[38;5;241;43m.\u001b[39;49m\u001b[43mupper\u001b[49m())\n",
      "\u001b[0;31mAttributeError\u001b[0m: 'builtin_function_or_method' object has no attribute 'upper'"
     ]
    }
   ],
   "source": [
    "a1=[]\n",
    "for i in a:\n",
    "    print(i)\n",
    "    a1.append(i.upper())"
   ]
  },
  {
   "cell_type": "code",
   "execution_count": 67,
   "id": "0c0caa6d-865e-434d-8b7c-5d53b5320eb9",
   "metadata": {},
   "outputs": [
    {
     "data": {
      "text/plain": [
       "['TAN', 'MOH', 'NIKH']"
      ]
     },
     "execution_count": 67,
     "metadata": {},
     "output_type": "execute_result"
    }
   ],
   "source": [
    "a1"
   ]
  },
  {
   "cell_type": "code",
   "execution_count": 92,
   "id": "6d8cf8fa-d091-43c3-bab4-247c7239ebd8",
   "metadata": {},
   "outputs": [],
   "source": [
    "t=[1,2,3,4,5,5.3,'tzm','moh']"
   ]
  },
  {
   "cell_type": "code",
   "execution_count": 93,
   "id": "58fe9d58-309d-4c4e-a5e1-80aaa89c2097",
   "metadata": {},
   "outputs": [
    {
     "data": {
      "text/plain": [
       "[1, 2, 3, 4, 5, 5.3, 'tzm', 'moh']"
      ]
     },
     "execution_count": 93,
     "metadata": {},
     "output_type": "execute_result"
    }
   ],
   "source": [
    "t"
   ]
  },
  {
   "cell_type": "code",
   "execution_count": 101,
   "id": "b7db7a05-49ce-49ab-9065-539b0c5705d0",
   "metadata": {},
   "outputs": [],
   "source": [
    "t1_num=[]\n",
    "t2_str=[]\n",
    "for i in t :\n",
    "    if type(i)==int or type(i)==float:\n",
    "        t1_num.append(i)\n",
    "    else:\n",
    "        t2_str.append(i)"
   ]
  },
  {
   "cell_type": "code",
   "execution_count": 102,
   "id": "8d500a11-93b8-4cce-8f71-f2cd5e2c5f19",
   "metadata": {},
   "outputs": [
    {
     "data": {
      "text/plain": [
       "[1, 2, 3, 4, 5, 5.3]"
      ]
     },
     "execution_count": 102,
     "metadata": {},
     "output_type": "execute_result"
    }
   ],
   "source": [
    "t1_num"
   ]
  },
  {
   "cell_type": "code",
   "execution_count": 103,
   "id": "bc7e6e80-634a-4d6b-b475-f47902c87c9a",
   "metadata": {},
   "outputs": [
    {
     "data": {
      "text/plain": [
       "['tzm', 'moh']"
      ]
     },
     "execution_count": 103,
     "metadata": {},
     "output_type": "execute_result"
    }
   ],
   "source": [
    "t2_str"
   ]
  },
  {
   "cell_type": "code",
   "execution_count": null,
   "id": "ffa2f9ce-bde2-48da-b043-9f105a2912cd",
   "metadata": {},
   "outputs": [],
   "source": []
  },
  {
   "cell_type": "code",
   "execution_count": null,
   "id": "1e696398-166f-4c50-9d63-7b2c0dfeece3",
   "metadata": {},
   "outputs": [],
   "source": []
  },
  {
   "cell_type": "code",
   "execution_count": null,
   "id": "8a0d1187-e07d-4a24-87c9-ab64e8cd72b6",
   "metadata": {},
   "outputs": [],
   "source": []
  },
  {
   "cell_type": "code",
   "execution_count": null,
   "id": "b015667d-64e1-4645-a79b-8434207d13d8",
   "metadata": {},
   "outputs": [],
   "source": []
  },
  {
   "cell_type": "code",
   "execution_count": null,
   "id": "5fdbbd52-508a-4848-8911-1f599df8c2ce",
   "metadata": {},
   "outputs": [],
   "source": []
  }
 ],
 "metadata": {
  "kernelspec": {
   "display_name": "Python 3 (ipykernel)",
   "language": "python",
   "name": "python3"
  },
  "language_info": {
   "codemirror_mode": {
    "name": "ipython",
    "version": 3
   },
   "file_extension": ".py",
   "mimetype": "text/x-python",
   "name": "python",
   "nbconvert_exporter": "python",
   "pygments_lexer": "ipython3",
   "version": "3.10.8"
  }
 },
 "nbformat": 4,
 "nbformat_minor": 5
}
